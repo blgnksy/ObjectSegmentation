{
 "cells": [
  {
   "cell_type": "markdown",
   "metadata": {},
   "source": [
    "# Fully Convolutional Network"
   ]
  },
  {
   "cell_type": "markdown",
   "metadata": {},
   "source": [
    "![image.png](attachment:image.png)"
   ]
  },
  {
   "cell_type": "markdown",
   "metadata": {},
   "source": [
    "![image.png](attachment:image.png)"
   ]
  },
  {
   "cell_type": "code",
   "execution_count": 1,
   "metadata": {
    "collapsed": false
   },
   "outputs": [
    {
     "name": "stderr",
     "output_type": "stream",
     "text": [
      "/usr/local/lib/python2.7/dist-packages/ipykernel/pylab/config.py:66: DeprecationWarning: metadata {'config': True} was set from the constructor.  Metadata should be set using the .tag() method, e.g., Int().tag(key1='value1', key2='value2')\n",
      "  inline backend.\"\"\"\n",
      "/usr/local/lib/python2.7/dist-packages/ipykernel/pylab/config.py:71: DeprecationWarning: metadata {'config': True} was set from the constructor.  Metadata should be set using the .tag() method, e.g., Int().tag(key1='value1', key2='value2')\n",
      "  'retina', 'jpeg', 'svg', 'pdf'.\"\"\")\n",
      "/usr/local/lib/python2.7/dist-packages/ipykernel/pylab/config.py:85: DeprecationWarning: metadata {'config': True} was set from the constructor.  Metadata should be set using the .tag() method, e.g., Int().tag(key1='value1', key2='value2')\n",
      "  use `figure_formats` instead)\"\"\")\n",
      "/usr/local/lib/python2.7/dist-packages/ipykernel/pylab/config.py:95: DeprecationWarning: metadata {'config': True} was set from the constructor.  Metadata should be set using the .tag() method, e.g., Int().tag(key1='value1', key2='value2')\n",
      "  \"\"\"\n",
      "/usr/local/lib/python2.7/dist-packages/ipykernel/pylab/config.py:114: DeprecationWarning: metadata {'config': True} was set from the constructor.  Metadata should be set using the .tag() method, e.g., Int().tag(key1='value1', key2='value2')\n",
      "  \"\"\")\n",
      "/usr/local/lib/python2.7/dist-packages/ipykernel/pylab/config.py:44: DeprecationWarning: InlineBackend._config_changed is deprecated: use @observe and @unobserve instead.\n",
      "  def _config_changed(self, name, old, new):\n",
      "/usr/local/lib/python2.7/dist-packages/traitlets/traitlets.py:770: DeprecationWarning: A parent of InlineBackend._config_changed has adopted the new @observe(change) API\n",
      "  clsname, change_or_name), DeprecationWarning)\n",
      "/usr/local/lib/python2.7/dist-packages/IPython/core/formatters.py:98: DeprecationWarning: DisplayFormatter._formatters_default is deprecated: use @default decorator instead.\n",
      "  def _formatters_default(self):\n",
      "/usr/local/lib/python2.7/dist-packages/IPython/core/formatters.py:677: DeprecationWarning: PlainTextFormatter._deferred_printers_default is deprecated: use @default decorator instead.\n",
      "  def _deferred_printers_default(self):\n",
      "/usr/local/lib/python2.7/dist-packages/IPython/core/formatters.py:669: DeprecationWarning: PlainTextFormatter._singleton_printers_default is deprecated: use @default decorator instead.\n",
      "  def _singleton_printers_default(self):\n",
      "/usr/local/lib/python2.7/dist-packages/IPython/core/formatters.py:672: DeprecationWarning: PlainTextFormatter._type_printers_default is deprecated: use @default decorator instead.\n",
      "  def _type_printers_default(self):\n",
      "/usr/local/lib/python2.7/dist-packages/IPython/core/formatters.py:672: DeprecationWarning: PlainTextFormatter._type_printers_default is deprecated: use @default decorator instead.\n",
      "  def _type_printers_default(self):\n",
      "/usr/local/lib/python2.7/dist-packages/IPython/core/formatters.py:677: DeprecationWarning: PlainTextFormatter._deferred_printers_default is deprecated: use @default decorator instead.\n",
      "  def _deferred_printers_default(self):\n"
     ]
    }
   ],
   "source": [
    "import os\n",
    "import scipy as scp\n",
    "import scipy.misc\n",
    "\n",
    "import numpy as np\n",
    "import tensorflow as tf\n",
    "\n",
    "import fcn32_vgg\n",
    "import utils\n",
    "\n",
    "from tensorflow.python.framework import ops\n",
    "import matplotlib.pyplot as plt\n",
    "import math\n",
    "%matplotlib inline"
   ]
  },
  {
   "cell_type": "markdown",
   "metadata": {},
   "source": [
    "# Dataset\n",
    "## Contains 4859 images and 2 classes"
   ]
  },
  {
   "cell_type": "code",
   "execution_count": 2,
   "metadata": {
    "collapsed": false
   },
   "outputs": [],
   "source": [
    "img1 = scp.misc.imread(\"./test_data/frame34.png\")"
   ]
  },
  {
   "cell_type": "code",
   "execution_count": 3,
   "metadata": {
    "collapsed": false,
    "scrolled": true
   },
   "outputs": [
    {
     "name": "stdout",
     "output_type": "stream",
     "text": [
      "npy file loaded\n"
     ]
    },
    {
     "ename": "TypeError",
     "evalue": "Input 'split_dim' of 'Split' Op has type float32 that does not match expected type of int32.",
     "output_type": "error",
     "traceback": [
      "\u001b[1;31m---------------------------------------------------------------------------\u001b[0m",
      "\u001b[1;31mTypeError\u001b[0m                                 Traceback (most recent call last)",
      "\u001b[1;32m<ipython-input-3-c59661df654a>\u001b[0m in \u001b[0;36m<module>\u001b[1;34m()\u001b[0m\n\u001b[0;32m      6\u001b[0m     \u001b[0mvgg_fcn\u001b[0m \u001b[1;33m=\u001b[0m \u001b[0mfcn32_vgg\u001b[0m\u001b[1;33m.\u001b[0m\u001b[0mFCN32VGG\u001b[0m\u001b[1;33m(\u001b[0m\u001b[1;33m)\u001b[0m\u001b[1;33m\u001b[0m\u001b[0m\n\u001b[0;32m      7\u001b[0m     \u001b[1;32mwith\u001b[0m \u001b[0mtf\u001b[0m\u001b[1;33m.\u001b[0m\u001b[0mname_scope\u001b[0m\u001b[1;33m(\u001b[0m\u001b[1;34m\"content_vgg\"\u001b[0m\u001b[1;33m)\u001b[0m\u001b[1;33m:\u001b[0m\u001b[1;33m\u001b[0m\u001b[0m\n\u001b[1;32m----> 8\u001b[1;33m         \u001b[0mvgg_fcn\u001b[0m\u001b[1;33m.\u001b[0m\u001b[0mbuild\u001b[0m\u001b[1;33m(\u001b[0m\u001b[0mbatch_images\u001b[0m\u001b[1;33m,\u001b[0m \u001b[0mdebug\u001b[0m\u001b[1;33m=\u001b[0m\u001b[0mTrue\u001b[0m\u001b[1;33m,\u001b[0m \u001b[0mtrain\u001b[0m\u001b[1;33m=\u001b[0m\u001b[0mTrue\u001b[0m\u001b[1;33m)\u001b[0m\u001b[1;33m\u001b[0m\u001b[0m\n\u001b[0m\u001b[0;32m      9\u001b[0m \u001b[1;33m\u001b[0m\u001b[0m\n\u001b[0;32m     10\u001b[0m     \u001b[1;32mprint\u001b[0m\u001b[1;33m(\u001b[0m\u001b[1;34m'Finished building Network.'\u001b[0m\u001b[1;33m)\u001b[0m\u001b[1;33m\u001b[0m\u001b[0m\n",
      "\u001b[1;32m/root/sharedfolder/DockerImage/Thesis/fcn32_vgg.py\u001b[0m in \u001b[0;36mbuild\u001b[1;34m(self, rgb, train, num_classes, random_init_fc8, debug)\u001b[0m\n\u001b[0;32m     51\u001b[0m         \u001b[1;32mwith\u001b[0m \u001b[0mtf\u001b[0m\u001b[1;33m.\u001b[0m\u001b[0mname_scope\u001b[0m\u001b[1;33m(\u001b[0m\u001b[1;34m'Processing'\u001b[0m\u001b[1;33m)\u001b[0m\u001b[1;33m:\u001b[0m\u001b[1;33m\u001b[0m\u001b[0m\n\u001b[0;32m     52\u001b[0m \u001b[1;33m\u001b[0m\u001b[0m\n\u001b[1;32m---> 53\u001b[1;33m             \u001b[0mred\u001b[0m\u001b[1;33m,\u001b[0m \u001b[0mgreen\u001b[0m\u001b[1;33m,\u001b[0m \u001b[0mblue\u001b[0m \u001b[1;33m=\u001b[0m \u001b[0mtf\u001b[0m\u001b[1;33m.\u001b[0m\u001b[0msplit\u001b[0m\u001b[1;33m(\u001b[0m\u001b[0mrgb\u001b[0m\u001b[1;33m,\u001b[0m \u001b[1;36m3\u001b[0m\u001b[1;33m,\u001b[0m \u001b[1;36m3\u001b[0m\u001b[1;33m)\u001b[0m\u001b[1;33m\u001b[0m\u001b[0m\n\u001b[0m\u001b[0;32m     54\u001b[0m             bgr = tf.concat([\n\u001b[0;32m     55\u001b[0m                 \u001b[0mblue\u001b[0m \u001b[1;33m-\u001b[0m \u001b[0mVGG_MEAN\u001b[0m\u001b[1;33m[\u001b[0m\u001b[1;36m0\u001b[0m\u001b[1;33m]\u001b[0m\u001b[1;33m,\u001b[0m\u001b[1;33m\u001b[0m\u001b[0m\n",
      "\u001b[1;32m/usr/local/lib/python2.7/dist-packages/tensorflow/python/ops/array_ops.pyc\u001b[0m in \u001b[0;36msplit\u001b[1;34m(split_dim, num_split, value, name)\u001b[0m\n\u001b[0;32m    523\u001b[0m                               \u001b[0mnum_split\u001b[0m\u001b[1;33m=\u001b[0m\u001b[0mnum_split\u001b[0m\u001b[1;33m,\u001b[0m\u001b[1;33m\u001b[0m\u001b[0m\n\u001b[0;32m    524\u001b[0m                               \u001b[0mvalue\u001b[0m\u001b[1;33m=\u001b[0m\u001b[0mvalue\u001b[0m\u001b[1;33m,\u001b[0m\u001b[1;33m\u001b[0m\u001b[0m\n\u001b[1;32m--> 525\u001b[1;33m                               name=name)\n\u001b[0m\u001b[0;32m    526\u001b[0m \u001b[1;33m\u001b[0m\u001b[0m\n\u001b[0;32m    527\u001b[0m \u001b[1;33m\u001b[0m\u001b[0m\n",
      "\u001b[1;32m/usr/local/lib/python2.7/dist-packages/tensorflow/python/ops/gen_array_ops.pyc\u001b[0m in \u001b[0;36m_split\u001b[1;34m(split_dim, value, num_split, name)\u001b[0m\n\u001b[0;32m   1426\u001b[0m   \"\"\"\n\u001b[0;32m   1427\u001b[0m   return _op_def_lib.apply_op(\"Split\", split_dim=split_dim, value=value,\n\u001b[1;32m-> 1428\u001b[1;33m                               num_split=num_split, name=name)\n\u001b[0m\u001b[0;32m   1429\u001b[0m \u001b[1;33m\u001b[0m\u001b[0m\n\u001b[0;32m   1430\u001b[0m \u001b[1;33m\u001b[0m\u001b[0m\n",
      "\u001b[1;32m/usr/local/lib/python2.7/dist-packages/tensorflow/python/ops/op_def_library.pyc\u001b[0m in \u001b[0;36mapply_op\u001b[1;34m(self, op_type_name, name, **keywords)\u001b[0m\n\u001b[0;32m    418\u001b[0m             \u001b[1;32mif\u001b[0m \u001b[0minput_arg\u001b[0m\u001b[1;33m.\u001b[0m\u001b[0mtype\u001b[0m \u001b[1;33m!=\u001b[0m \u001b[0mtypes_pb2\u001b[0m\u001b[1;33m.\u001b[0m\u001b[0mDT_INVALID\u001b[0m\u001b[1;33m:\u001b[0m\u001b[1;33m\u001b[0m\u001b[0m\n\u001b[0;32m    419\u001b[0m               raise TypeError(\"%s expected type of %s.\" %\n\u001b[1;32m--> 420\u001b[1;33m                               (prefix, dtypes.as_dtype(input_arg.type).name))\n\u001b[0m\u001b[0;32m    421\u001b[0m             \u001b[1;32melse\u001b[0m\u001b[1;33m:\u001b[0m\u001b[1;33m\u001b[0m\u001b[0m\n\u001b[0;32m    422\u001b[0m               raise TypeError(\n",
      "\u001b[1;31mTypeError\u001b[0m: Input 'split_dim' of 'Split' Op has type float32 that does not match expected type of int32."
     ]
    }
   ],
   "source": [
    "with tf.Session() as sess:\n",
    "    images = tf.placeholder(\"float\")\n",
    "    feed_dict = {images: img1}\n",
    "    batch_images = tf.expand_dims(images, 0)\n",
    "    \n",
    "    vgg_fcn = fcn32_vgg.FCN32VGG()\n",
    "    with tf.name_scope(\"content_vgg\"):\n",
    "        vgg_fcn.build(batch_images, debug=True, train=True)\n",
    "\n",
    "    print('Finished building Network.')\n",
    "\n",
    "    init = tf.global_variables_initializer()\n",
    "    sess.run(init)\n",
    "    saver=tf.train.Saver()\n",
    "    print('Running the Network')\n",
    "    tensors = [vgg_fcn.pred, vgg_fcn.pred_up,vgg_fcn.pool3,vgg_fcn.pool4,vgg_fcn.pool5]\n",
    "    down, up, p3,p4,p5= sess.run(tensors, feed_dict=feed_dict)\n",
    "    saver.save(sess, './Output/')\n",
    "    writer=tf.summary.FileWriter('./train/',)\n",
    "    summaries = tf.summary.merge_all()\n",
    "    summ = sess.run(summaries,feed_dict=feed_dict)\n",
    "    writer.add_summary(summ)"
   ]
  },
  {
   "cell_type": "code",
   "execution_count": null,
   "metadata": {
    "collapsed": false
   },
   "outputs": [],
   "source": [
    "filters_p3 = p3.shape[3]\n",
    "print(\"Shape of the activation is %dX%d\" % (p3.shape[1],p3.shape[2]))\n",
    "print(\"Number of the filters learned %d\"%filters_p3)\n",
    "plt.figure(1, figsize=(50,70))\n",
    "sum_p3=0\n",
    "for i in range(filters_p3):\n",
    "    #plt.subplot(n_rows, n_columns, i + 1)\n",
    "    #plt.title('Filter ' + str(i))\n",
    "    #plt.imshow(p3[0, :, :, i], interpolation=\"nearest\")\n",
    "    sum_p3+=p3[0, :, :, i]/256\n",
    "plt.subplot(1, 2, 1)\n",
    "plt.title('Activations of Pool3',fontsize=50)\n",
    "plt.imshow(sum_p3,interpolation='nearest') \n",
    "up3=scipy.misc.imresize(sum_p3,(173,307),'bilinear')\n",
    "plt.subplot(1, 2, 2)\n",
    "plt.title('Activations of Pool3 (Upsampled)',fontsize=50)\n",
    "plt.imshow(up3,interpolation='nearest') "
   ]
  },
  {
   "cell_type": "code",
   "execution_count": null,
   "metadata": {
    "collapsed": false
   },
   "outputs": [],
   "source": [
    "filters_p4 = p4.shape[3]\n",
    "print(\"Shape of the activation is %dX%d\" % (p4.shape[1],p4.shape[2]))\n",
    "print(\"Number of the filters learned %d\"%filters_p4)\n",
    "plt.figure(1, figsize=(50,70))\n",
    "sum_p4=0\n",
    "for i in range(filters_p4):\n",
    "    #plt.subplot(n_rows, n_columns, i + 1)\n",
    "    #plt.title('Filter ' + str(i))\n",
    "    #plt.imshow(p3[0, :, :, i], interpolation=\"nearest\")\n",
    "    sum_p4+=p4[0, :, :, i]/256\n",
    "plt.subplot(1, 2, 1)\n",
    "plt.title('Activations of Pool4',fontsize=50)\n",
    "plt.imshow(sum_p4,interpolation='nearest') \n",
    "up4=scipy.misc.imresize(sum_p4,(173,307),'bicubic')\n",
    "plt.subplot(1, 2, 2)\n",
    "plt.title('Activations of Pool4 (Upsampled)',fontsize=50)\n",
    "plt.imshow(up4,interpolation='nearest')"
   ]
  },
  {
   "cell_type": "code",
   "execution_count": null,
   "metadata": {
    "collapsed": false
   },
   "outputs": [],
   "source": [
    "filters_p5 = p5.shape[3]\n",
    "print(\"Shape of the activation is %dX%d\" % (p5.shape[1],p5.shape[2]))\n",
    "print(\"Number of the filters learned %d\"%filters_p5)\n",
    "plt.figure(1, figsize=(50,70))\n",
    "sum_p5=0\n",
    "for i in range(filters_p5):\n",
    "    #plt.subplot(n_rows, n_columns, i + 1)\n",
    "    #plt.title('Filter ' + str(i))\n",
    "    #plt.imshow(p3[0, :, :, i], interpolation=\"nearest\")\n",
    "    sum_p5+=p5[0, :, :, i]/256\n",
    "plt.subplot(1, 2, 1)\n",
    "plt.title('Activations of Pool5',fontsize=50)\n",
    "plt.imshow(sum_p5,interpolation='nearest') \n",
    "up5=scipy.misc.imresize(sum_p5,(173,307),'bilinear')\n",
    "plt.subplot(1, 2, 2)\n",
    "plt.title('Activations of Pool5 (Upsampled)',fontsize=50)\n",
    "plt.imshow(up5,interpolation='nearest')"
   ]
  },
  {
   "cell_type": "code",
   "execution_count": null,
   "metadata": {
    "collapsed": false
   },
   "outputs": [],
   "source": [
    "sum_act=(0.60*up3+0.3*up4+0.1*up5)\n",
    "img1[sum_act<129]=0\n",
    "plt.imshow(img1,interpolation='nearest')"
   ]
  },
  {
   "cell_type": "code",
   "execution_count": null,
   "metadata": {
    "collapsed": true
   },
   "outputs": [],
   "source": []
  }
 ],
 "metadata": {
  "kernelspec": {
   "display_name": "Python 2",
   "language": "python",
   "name": "python2"
  },
  "language_info": {
   "codemirror_mode": {
    "name": "ipython",
    "version": 2
   },
   "file_extension": ".py",
   "mimetype": "text/x-python",
   "name": "python",
   "nbconvert_exporter": "python",
   "pygments_lexer": "ipython2",
   "version": "2.7.6"
  }
 },
 "nbformat": 4,
 "nbformat_minor": 2
}
